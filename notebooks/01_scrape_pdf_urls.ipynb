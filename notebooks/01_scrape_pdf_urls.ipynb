{
 "cells": [
  {
   "cell_type": "code",
   "execution_count": 0,
   "metadata": {
    "application/vnd.databricks.v1+cell": {
     "cellMetadata": {},
     "inputWidgets": {},
     "nuid": "7fe4d4f8-513c-4c90-a07b-069508b5a641",
     "showTitle": false,
     "tableResultSettingsMap": {},
     "title": ""
    }
   },
   "outputs": [],
   "source": [
    "%pip install --quiet requests beautifulsoup4 tqdm"
   ]
  },
  {
   "cell_type": "code",
   "execution_count": 0,
   "metadata": {
    "application/vnd.databricks.v1+cell": {
     "cellMetadata": {},
     "inputWidgets": {},
     "nuid": "6186753f-81f4-4275-b2e5-f3278909f67d",
     "showTitle": false,
     "tableResultSettingsMap": {},
     "title": ""
    }
   },
   "outputs": [],
   "source": [
    "import requests\n",
    "from bs4 import BeautifulSoup\n",
    "from typing import List, Dict\n",
    "import pyspark.sql.functions as F"
   ]
  },
  {
   "cell_type": "code",
   "execution_count": 0,
   "metadata": {
    "application/vnd.databricks.v1+cell": {
     "cellMetadata": {},
     "inputWidgets": {},
     "nuid": "13c34810-22a1-4062-9d3f-e6991bf38ff7",
     "showTitle": false,
     "tableResultSettingsMap": {},
     "title": ""
    }
   },
   "outputs": [],
   "source": [
    "CATALOG = \"marcell\"\n",
    "SCHEMA = \"marine_ai_poc\"\n",
    "PROJECT_ID = \"EN010098\""
   ]
  },
  {
   "cell_type": "code",
   "execution_count": 0,
   "metadata": {
    "application/vnd.databricks.v1+cell": {
     "cellMetadata": {},
     "inputWidgets": {},
     "nuid": "d4bddb25-6683-42bc-9db7-057ff1a0485b",
     "showTitle": false,
     "tableResultSettingsMap": {},
     "title": ""
    }
   },
   "outputs": [],
   "source": [
    "spark.sql(f\"CREATE CATALOG IF NOT EXISTS {CATALOG}\")\n",
    "spark.sql(f\"CREATE SCHEMA IF NOT EXISTS {CATALOG}.{SCHEMA}\")\n",
    "spark.sql(f\"CREATE VOLUME IF NOT EXISTS {CATALOG}.{SCHEMA}.data\")"
   ]
  },
  {
   "cell_type": "code",
   "execution_count": 0,
   "metadata": {
    "application/vnd.databricks.v1+cell": {
     "cellMetadata": {},
     "inputWidgets": {},
     "nuid": "3833b52b-d69f-48b3-9223-95d9449962be",
     "showTitle": false,
     "tableResultSettingsMap": {},
     "title": ""
    }
   },
   "outputs": [],
   "source": [
    "def scrape_document_details(url: str) -> List[Dict]:\n",
    "    headers = {\n",
    "        'User-Agent': 'Mozilla/5.0 (Windows NT 10.0; Win64; x64) AppleWebKit/537.36'\n",
    "    }\n",
    "    \n",
    "    try:\n",
    "        response = requests.get(url, headers=headers)\n",
    "        response.raise_for_status()\n",
    "        \n",
    "        soup = BeautifulSoup(response.text, 'html.parser')\n",
    "        documents = []\n",
    "        \n",
    "        # Find all result sections\n",
    "        results = soup.find_all('li', class_='section-results__result')\n",
    "        \n",
    "        for result in results:\n",
    "            document_info = {}\n",
    "            \n",
    "            # Extract PDF link and text\n",
    "            pdf_link = result.find('a', href=lambda x: x and x.endswith('.pdf'))\n",
    "            if pdf_link:\n",
    "                document_info['link_text'] = pdf_link.get_text(strip=True)\n",
    "                document_info['pdf_url'] = pdf_link['href']\n",
    "            \n",
    "            # Extract subtitle\n",
    "            subtitle = result.find('div', class_='section-results__result-copy')\n",
    "            if subtitle:\n",
    "                document_info['subtitle'] = subtitle.get_text(strip=True)\n",
    "            \n",
    "            # Extract date\n",
    "            date_elem = result.find(attrs={'data-cy': 'published-date'})\n",
    "            if date_elem:\n",
    "                document_info['date'] = date_elem.get_text(strip=True)\n",
    "            \n",
    "            # Extract stage\n",
    "            stage = result.find(attrs={'data-cy': 'published-stage'})\n",
    "            if stage:\n",
    "                document_info['stage'] = stage.get_text(strip=True)\n",
    "            \n",
    "            # Extract title\n",
    "            title = result.find(attrs={'data-cy': 'published-title'})\n",
    "            if title:\n",
    "                document_info['title'] = title.get_text(strip=True)\n",
    "            \n",
    "            if document_info:\n",
    "                documents.append(document_info)\n",
    "        \n",
    "        return documents\n",
    "    \n",
    "    except requests.RequestException as e:\n",
    "        print(f\"Error fetching the webpage: {e}\")\n",
    "        return []\n",
    "\n"
   ]
  },
  {
   "cell_type": "code",
   "execution_count": 0,
   "metadata": {
    "application/vnd.databricks.v1+cell": {
     "cellMetadata": {},
     "inputWidgets": {},
     "nuid": "375b8ee4-f22c-4268-ac95-6249caca4f94",
     "showTitle": false,
     "tableResultSettingsMap": {},
     "title": ""
    }
   },
   "outputs": [],
   "source": [
    "all_docs = []\n",
    "\n",
    "page = 1\n",
    "\n",
    "while True:\n",
    "    url = f\"https://national-infrastructure-consenting.planninginspectorate.gov.uk/projects/{PROJECT_ID}/documents?page={page}\"\n",
    "    documents = scrape_document_details(url)\n",
    "    if len(documents)<1:\n",
    "        break\n",
    "    all_docs.extend(documents)\n",
    "    page+=1"
   ]
  },
  {
   "cell_type": "code",
   "execution_count": 0,
   "metadata": {
    "application/vnd.databricks.v1+cell": {
     "cellMetadata": {},
     "inputWidgets": {},
     "nuid": "af296e8f-c5ce-4d8b-92a9-bf3c8bb38530",
     "showTitle": false,
     "tableResultSettingsMap": {},
     "title": ""
    }
   },
   "outputs": [],
   "source": [
    "non_null_docs = [d for d in all_docs if \"pdf_url\" in d.keys()]\n",
    "len(non_null_docs)"
   ]
  },
  {
   "cell_type": "code",
   "execution_count": 0,
   "metadata": {
    "application/vnd.databricks.v1+cell": {
     "cellMetadata": {},
     "inputWidgets": {},
     "nuid": "6177baab-6f07-433a-909c-ddcbc19246ef",
     "showTitle": false,
     "tableResultSettingsMap": {},
     "title": ""
    }
   },
   "outputs": [],
   "source": [
    "df = spark.createDataFrame(non_null_docs) \\\n",
    "    .withColumn(\"date\", F.to_timestamp(F.col(\"date\"), \"d MMMM yyyy\")) \\\n",
    "    .withColumn(\"project_id\", F.lit(PROJECT_ID))\\\n",
    "    .withColumn(\"title\", F.regexp_replace(F.col(\"link_text\"), r\"\\s*\\([^)]*\\)\", \"\").rstrip())\n",
    "\n",
    "df.write.mode(\"append\").saveAsTable(f\"{CATALOG}.{SCHEMA}.document_reference\")"
   ]
  }
 ],
 "metadata": {
  "application/vnd.databricks.v1+notebook": {
   "computePreferences": null,
   "dashboards": [],
   "environmentMetadata": null,
   "inputWidgetPreferences": null,
   "language": "python",
   "notebookMetadata": {
    "pythonIndentUnit": 2
   },
   "notebookName": "01_scrape_pdf_urls",
   "widgets": {}
  },
  "kernelspec": {
   "display_name": ".venv",
   "language": "python",
   "name": "python3"
  },
  "language_info": {
   "name": "python"
  }
 },
 "nbformat": 4,
 "nbformat_minor": 0
}

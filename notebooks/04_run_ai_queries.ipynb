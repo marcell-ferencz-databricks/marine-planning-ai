{
 "cells": [
  {
   "cell_type": "code",
   "execution_count": 0,
   "metadata": {
    "application/vnd.databricks.v1+cell": {
     "cellMetadata": {
      "byteLimit": 2048000,
      "rowLimit": 10000
     },
     "inputWidgets": {},
     "nuid": "1bb33324-c9d7-4a04-8b4a-e018c58120d0",
     "showTitle": false,
     "tableResultSettingsMap": {},
     "title": ""
    }
   },
   "outputs": [],
   "source": [
    "from datetime import datetime"
   ]
  },
  {
   "cell_type": "code",
   "execution_count": 0,
   "metadata": {
    "application/vnd.databricks.v1+cell": {
     "cellMetadata": {
      "byteLimit": 2048000,
      "rowLimit": 10000
     },
     "inputWidgets": {},
     "nuid": "83e7756d-6435-4114-b3fd-e45c8cc42716",
     "showTitle": false,
     "tableResultSettingsMap": {},
     "title": ""
    }
   },
   "outputs": [],
   "source": [
    "CATALOG = \"marcell\"\n",
    "SCHEMA = \"marine_ai_poc\""
   ]
  },
  {
   "cell_type": "code",
   "execution_count": 0,
   "metadata": {
    "application/vnd.databricks.v1+cell": {
     "cellMetadata": {
      "byteLimit": 2048000,
      "rowLimit": 10000
     },
     "inputWidgets": {},
     "nuid": "190facbd-f30f-46b2-bb76-fa404ed00bd7",
     "showTitle": false,
     "tableResultSettingsMap": {},
     "title": ""
    }
   },
   "outputs": [],
   "source": [
    "# Table names for storing data\n",
    "DOC_REFERENCE_TABLE = f\"{CATALOG}.{SCHEMA}.document_pages_parsed\"\n",
    "PARAGRAPH_TARGET_TABLE = f\"{CATALOG}.{SCHEMA}.app_paragraph_stage\"\n",
    "DOCUMENT_TARGET_TABLE = f\"{CATALOG}.{SCHEMA}.app_document_stage\"\n",
    "PROJECT_TARGET_TABLE = f\"{CATALOG}.{SCHEMA}.app_project_stage\"\n",
    "SUMMARY_FEEDBACK_TABLE = f\"{CATALOG}.{SCHEMA}.app_feedback\""
   ]
  },
  {
   "cell_type": "code",
   "execution_count": 0,
   "metadata": {
    "application/vnd.databricks.v1+cell": {
     "cellMetadata": {
      "byteLimit": 2048000,
      "rowLimit": 10000
     },
     "inputWidgets": {},
     "nuid": "3652f1b9-9495-4310-a261-ce0a83116f37",
     "showTitle": false,
     "tableResultSettingsMap": {},
     "title": ""
    }
   },
   "outputs": [],
   "source": [
    "time_now = datetime.now()\n",
    "current_user = spark.sql(\"SELECT current_user()\").collect()[0][0]\n",
    "RUN_ID = f\"{time_now.strftime('%Y%m%d%H%M%S')}_{current_user}\""
   ]
  },
  {
   "cell_type": "code",
   "execution_count": 0,
   "metadata": {
    "application/vnd.databricks.v1+cell": {
     "cellMetadata": {
      "byteLimit": 2048000,
      "rowLimit": 10000
     },
     "inputWidgets": {},
     "nuid": "7c2b294e-2991-45e6-a44c-6ebd06ccfb2b",
     "showTitle": false,
     "tableResultSettingsMap": {},
     "title": ""
    }
   },
   "outputs": [],
   "source": [
    "\n",
    "# AI models used for processing\n",
    "MODEL_1 = \"databricks-meta-llama-3-1-8b-instruct\"\n",
    "MODEL_2 = \"databricks-meta-llama-3-3-70b-instruct\"\n",
    "MODEL_3 = \"databricks-meta-llama-3-3-70b-instruct\"\n",
    "\n",
    "# Default prompts for AI models\n",
    "prompt_1 = \"\"\"\n",
    "You are an environmental policy expert. You are given a paragraph or excerpt from an environmental planning correspondence document. If the text pertains to any impacts on marine life, extract the text in complete sentences. If the text does not discuss topics potentially related to marine impact, output <NO IMPACT IDENTIFIED>. If the excerpt on the page looks like a table of contents, a bibliographical reference, or incomplete, ignore the excerpt and output <NO IMPACT IDENTIFIED>. Do not output anything else, apart from an exact extract of the text, or <NO IMPACT IDENTIFIED>. Here's the text: \\n\\n\n",
    "\"\"\"\n",
    "\n",
    "prompt_2 = \"\"\"\n",
    "You are an environment policy expert. You are given excerpts from a decision correspondence, where each excerpt pertains to potential or confirmed impact on marine life. Review the document and identify all instances where the Secretary of State (SoS) concluded that adverse effects on integrity (AEoI) cannot be ruled out beyond reasonable scientific doubt. For each instance, extract the specific impact, the quantitative impacts, affected species, locations and any compensation measures. Present these findings as a bulleted list of coherent and succinct sentences with page number references where this information appears in the document. Here is the text: \\n\\n\n",
    "\"\"\"\n",
    "\n",
    "prompt_3 = \"\"\"\n",
    "You are an environmental policy expert. You are given summary lists of issues pertaining to impact of infrastructure development on marine life, which have been identified in separate documents. Create a summary list of coherent sentences from these issues, merging any similar or duplicate issues into one item in your final list, and including the species, any quantitative impacts if any, compensation measures if any, the location, and the source document and page of the information. Format your content as markdown, putting any locations, species, and quantities into bold, and creating hyperlinks from your document references from the title and URLs provided. Here is the text: \\n\\n\n",
    "\"\"\"\n",
    "\n",
    "# PDF urls to search\n",
    "pdf_urls = [\n",
    "    \"https://infrastructure.planninginspectorate.gov.uk/wp-content/ipc/uploads/projects/EN010109/EN010109-002394-SADEP NMC Amendment Order- 6 Feb.pdf\",\n",
    "    \"https://infrastructure.planninginspectorate.gov.uk/wp-content/ipc/uploads/projects/EN010109/EN010109-002383-MOD 30 August 24.pdf\"\n",
    "]"
   ]
  },
  {
   "cell_type": "markdown",
   "metadata": {
    "application/vnd.databricks.v1+cell": {
     "cellMetadata": {
      "byteLimit": 2048000,
      "rowLimit": 10000
     },
     "inputWidgets": {},
     "nuid": "04c80cda-733b-48ec-8a67-3f2ae871ade3",
     "showTitle": false,
     "tableResultSettingsMap": {},
     "title": ""
    }
   },
   "source": [
    "### CREATE TABLES"
   ]
  },
  {
   "cell_type": "code",
   "execution_count": 0,
   "metadata": {
    "application/vnd.databricks.v1+cell": {
     "cellMetadata": {
      "byteLimit": 2048000,
      "rowLimit": 10000
     },
     "inputWidgets": {},
     "nuid": "19366b74-29cc-4392-a0fd-6c9b96452b79",
     "showTitle": false,
     "tableResultSettingsMap": {},
     "title": ""
    }
   },
   "outputs": [],
   "source": [
    "create_paragraph_table_query = f\"\"\"\n",
    "CREATE TABLE IF NOT EXISTS {PARAGRAPH_TARGET_TABLE} (\n",
    "    run_id STRING, pdf_url_encoded STRING, title STRING, chunk_text STRING, \n",
    "    chunk_pages STRING, model_used STRING, prompt STRING, ai_assessment STRING\n",
    ")\n",
    "\"\"\"\n",
    "\n",
    "create_document_table_query = f\"\"\"\n",
    "CREATE TABLE IF NOT EXISTS {DOCUMENT_TARGET_TABLE} (\n",
    "    run_id STRING, pdf_url_encoded STRING, title STRING, document_summary STRING, \n",
    "    model_used STRING, prompt STRING\n",
    ")\n",
    "\"\"\"\n",
    "\n",
    "create_project_table_query = f\"\"\"\n",
    "CREATE TABLE IF NOT EXISTS {PROJECT_TARGET_TABLE} (\n",
    "    run_id STRING, project_impacts STRING, model_used STRING, prompt STRING\n",
    ")\n",
    "\"\"\"\n",
    "\n",
    "spark.sql(create_paragraph_table_query)\n",
    "spark.sql(create_document_table_query)\n",
    "spark.sql(create_project_table_query)"
   ]
  },
  {
   "cell_type": "markdown",
   "metadata": {
    "application/vnd.databricks.v1+cell": {
     "cellMetadata": {
      "byteLimit": 2048000,
      "rowLimit": 10000
     },
     "inputWidgets": {},
     "nuid": "4a37626f-1436-4de9-8a3f-621ceb1768e0",
     "showTitle": false,
     "tableResultSettingsMap": {},
     "title": ""
    }
   },
   "source": [
    "### FUNCTIONS TO GENERATE SQL QUERIES"
   ]
  },
  {
   "cell_type": "code",
   "execution_count": 0,
   "metadata": {
    "application/vnd.databricks.v1+cell": {
     "cellMetadata": {
      "byteLimit": 2048000,
      "rowLimit": 10000
     },
     "inputWidgets": {},
     "nuid": "8c06b25d-5aa8-45bf-830a-529729d893c7",
     "showTitle": false,
     "tableResultSettingsMap": {},
     "title": ""
    }
   },
   "outputs": [],
   "source": [
    "def construct_query_1(run_id, paragraph_target_table, prompt, model, document_ids):\n",
    "    documents = \"'\" + \"', '\".join(document_ids) + \"'\"\n",
    "    return f\"\"\"\n",
    "        INSERT INTO {paragraph_target_table}\n",
    "        SELECT\n",
    "            '{run_id}' AS run_id,\n",
    "            REPLACE(pdf_url, \" \", \"%20\") AS pdf_url_encoded,\n",
    "            title,\n",
    "            chunk_text,\n",
    "            chunk_pages,\n",
    "            '{model}' AS model_used,\n",
    "            \"{prompt}\" AS prompt,\n",
    "            ai_query('{model}', \"{prompt}\" || chunk_text) AS ai_assessment\n",
    "        FROM marcell.marine_planning.decision_chunks\n",
    "        WHERE filename IN ({documents})\n",
    "    \"\"\""
   ]
  },
  {
   "cell_type": "code",
   "execution_count": 0,
   "metadata": {
    "application/vnd.databricks.v1+cell": {
     "cellMetadata": {
      "byteLimit": 2048000,
      "rowLimit": 10000
     },
     "inputWidgets": {},
     "nuid": "ee8f18c0-43ad-46a1-82e7-ebe2bf71af44",
     "showTitle": false,
     "tableResultSettingsMap": {},
     "title": ""
    }
   },
   "outputs": [],
   "source": [
    "\n",
    "def construct_query_2(run_id, paragraph_target_table, document_target_table, prompt, model):\n",
    "    return f\"\"\"\n",
    "        INSERT INTO {document_target_table}\n",
    "        WITH impactful_pages AS (\n",
    "            SELECT\n",
    "                *,\n",
    "                \"Page(s): \" || chunk_pages || \"\\n\\n\" || ai_assessment AS ai_assessment_with_pages\n",
    "            FROM {paragraph_target_table}\n",
    "            WHERE ai_assessment NOT ILIKE \"%<NO IMPACT IDENTIFIED>%\" AND run_id = '{run_id}'\n",
    "        ),\n",
    "        numbered_impactful_pages AS (\n",
    "            SELECT\n",
    "                title,\n",
    "                pdf_url_encoded,\n",
    "                ai_assessment_with_pages,\n",
    "                ROW_NUMBER() OVER (PARTITION BY title ORDER BY chunk_pages) AS row_num\n",
    "            FROM impactful_pages\n",
    "        ),\n",
    "        grouped_impactful_pages AS (\n",
    "            SELECT\n",
    "                title || ' (part ' || CEIL(row_num / 200) || ')' AS title_part,\n",
    "                pdf_url_encoded,\n",
    "                ai_assessment_with_pages\n",
    "            FROM numbered_impactful_pages\n",
    "        )\n",
    "        SELECT\n",
    "            '{run_id}' AS run_id,\n",
    "            pdf_url_encoded,\n",
    "            title_part AS title,\n",
    "            ai_query(\"{model}\", system_prompt || concatenated_assessments) AS document_summary,\n",
    "            '{model}' AS model_used,\n",
    "            \"{prompt}\" AS prompt\n",
    "        FROM (\n",
    "            SELECT\n",
    "                pdf_url_encoded,\n",
    "                title_part,\n",
    "                \"{prompt}\" AS system_prompt,\n",
    "                concat_ws('\"\\n\\n\\n ==================\" \\n\\n', collect_list(ai_assessment_with_pages)) AS concatenated_assessments\n",
    "            FROM grouped_impactful_pages\n",
    "            GROUP BY pdf_url_encoded, title_part\n",
    "        );\n",
    "    \"\"\"\n"
   ]
  },
  {
   "cell_type": "code",
   "execution_count": 0,
   "metadata": {
    "application/vnd.databricks.v1+cell": {
     "cellMetadata": {
      "byteLimit": 2048000,
      "rowLimit": 10000
     },
     "inputWidgets": {},
     "nuid": "4e352a4b-4ac1-4dc9-91f9-252120510474",
     "showTitle": false,
     "tableResultSettingsMap": {},
     "title": ""
    }
   },
   "outputs": [],
   "source": [
    "def construct_query_3(run_id, document_target_table, project_target_table, prompt, model):\n",
    "    return f\"\"\"\n",
    "        INSERT INTO {project_target_table}\n",
    "        WITH doc_summaries AS (\n",
    "            SELECT *, \"Document: \" || title || \"\\n\" || \"URL: \" || pdf_url_encoded || \"\\n\" || \"Summary: \" || document_summary AS doc_assessment_with_titles\n",
    "            FROM {document_target_table}\n",
    "            WHERE run_id = '{run_id}'\n",
    "        )\n",
    "        SELECT\n",
    "            '{run_id}' AS run_id,\n",
    "            ai_query(\"{model}\", system_prompt || concatenated_doc_assessments) AS project_impacts,\n",
    "            '{model}' AS model_used, \"{prompt}\" AS prompt\n",
    "        FROM (\n",
    "            SELECT \"{prompt}\" AS system_prompt,\n",
    "            concat_ws('\"\\n\\n\\n ==================\" \\n\\n', collect_list(doc_assessment_with_titles)) AS concatenated_doc_assessments\n",
    "            FROM doc_summaries\n",
    "        );\n",
    "    \"\"\""
   ]
  },
  {
   "cell_type": "markdown",
   "metadata": {
    "application/vnd.databricks.v1+cell": {
     "cellMetadata": {
      "byteLimit": 2048000,
      "rowLimit": 10000
     },
     "inputWidgets": {},
     "nuid": "12a202db-d16a-47b2-b794-bed5c1d75fab",
     "showTitle": false,
     "tableResultSettingsMap": {},
     "title": ""
    }
   },
   "source": [
    "### RUN FUNCTIONS"
   ]
  },
  {
   "cell_type": "markdown",
   "metadata": {
    "application/vnd.databricks.v1+cell": {
     "cellMetadata": {
      "byteLimit": 2048000,
      "rowLimit": 10000
     },
     "inputWidgets": {},
     "nuid": "cb5041ac-f753-4d82-944a-902d5c4bf491",
     "showTitle": false,
     "tableResultSettingsMap": {},
     "title": ""
    }
   },
   "source": [
    "Step 1: filter pages/paragraphs"
   ]
  },
  {
   "cell_type": "code",
   "execution_count": 0,
   "metadata": {
    "application/vnd.databricks.v1+cell": {
     "cellMetadata": {
      "byteLimit": 2048000,
      "rowLimit": 10000
     },
     "inputWidgets": {},
     "nuid": "62f22764-ec68-42c2-bb5a-7dfa383ac4d6",
     "showTitle": false,
     "tableResultSettingsMap": {},
     "title": ""
    }
   },
   "outputs": [],
   "source": [
    "query_1 = construct_query_1(RUN_ID, PARAGRAPH_TARGET_TABLE, prompt_1, MODEL_1, pdf_urls)\n",
    "spark.sql(query_1)\n"
   ]
  },
  {
   "cell_type": "markdown",
   "metadata": {
    "application/vnd.databricks.v1+cell": {
     "cellMetadata": {
      "byteLimit": 2048000,
      "rowLimit": 10000
     },
     "inputWidgets": {},
     "nuid": "40b77629-8fdd-4b9d-b343-745fd169ed84",
     "showTitle": false,
     "tableResultSettingsMap": {},
     "title": ""
    }
   },
   "source": [
    "Step 2: summarise individual documents"
   ]
  },
  {
   "cell_type": "code",
   "execution_count": 0,
   "metadata": {
    "application/vnd.databricks.v1+cell": {
     "cellMetadata": {
      "byteLimit": 2048000,
      "rowLimit": 10000
     },
     "inputWidgets": {},
     "nuid": "7c62aabe-dd21-488c-9755-2f1132ecc3a5",
     "showTitle": false,
     "tableResultSettingsMap": {},
     "title": ""
    }
   },
   "outputs": [],
   "source": [
    "query_2 = construct_query_2(RUN_ID, PARAGRAPH_TARGET_TABLE, DOCUMENT_TARGET_TABLE, prompt_2, MODEL_2)\n",
    "spark.sql(query_2)"
   ]
  },
  {
   "cell_type": "markdown",
   "metadata": {
    "application/vnd.databricks.v1+cell": {
     "cellMetadata": {
      "byteLimit": 2048000,
      "rowLimit": 10000
     },
     "inputWidgets": {},
     "nuid": "bb1b3d97-4766-4369-b0d6-e7efefcbfad8",
     "showTitle": false,
     "tableResultSettingsMap": {},
     "title": ""
    }
   },
   "source": [
    "Step 3: Summarise project"
   ]
  },
  {
   "cell_type": "code",
   "execution_count": 0,
   "metadata": {
    "application/vnd.databricks.v1+cell": {
     "cellMetadata": {
      "byteLimit": 2048000,
      "rowLimit": 10000
     },
     "inputWidgets": {},
     "nuid": "2e387f87-b899-424b-8a20-22ad93b6ceb2",
     "showTitle": false,
     "tableResultSettingsMap": {},
     "title": ""
    }
   },
   "outputs": [],
   "source": [
    "query_3 = construct_query_3(RUN_ID, DOCUMENT_TARGET_TABLE, PROJECT_TARGET_TABLE, prompt_3, MODEL_3)\n",
    "spark.sql(query_3)"
   ]
  },
  {
   "cell_type": "markdown",
   "metadata": {
    "application/vnd.databricks.v1+cell": {
     "cellMetadata": {
      "byteLimit": 2048000,
      "rowLimit": 10000
     },
     "inputWidgets": {},
     "nuid": "81b879c4-f93c-4908-80fa-985253347c91",
     "showTitle": false,
     "tableResultSettingsMap": {},
     "title": ""
    }
   },
   "source": [
    "### PRINT SUMMARY"
   ]
  },
  {
   "cell_type": "code",
   "execution_count": 0,
   "metadata": {
    "application/vnd.databricks.v1+cell": {
     "cellMetadata": {
      "byteLimit": 2048000,
      "rowLimit": 10000
     },
     "inputWidgets": {},
     "nuid": "e823481b-d42e-40e5-9ef3-7d845175f7f4",
     "showTitle": false,
     "tableResultSettingsMap": {},
     "title": ""
    }
   },
   "outputs": [],
   "source": [
    "summary = spark.sql(f\"SELECT project_impacts FROM {PROJECT_TARGET_TABLE} WHERE run_id = '{RUN_ID}'\").collect()[0][\"project_impacts\"]\n",
    "print(summary)"
   ]
  }
 ],
 "metadata": {
  "application/vnd.databricks.v1+notebook": {
   "computePreferences": null,
   "dashboards": [],
   "environmentMetadata": null,
   "inputWidgetPreferences": null,
   "language": "python",
   "notebookMetadata": {
    "pythonIndentUnit": 2
   },
   "notebookName": "04_run_ai_queries",
   "widgets": {}
  },
  "kernelspec": {
   "display_name": ".venv",
   "language": "python",
   "name": "python3"
  },
  "language_info": {
   "name": "python"
  }
 },
 "nbformat": 4,
 "nbformat_minor": 0
}

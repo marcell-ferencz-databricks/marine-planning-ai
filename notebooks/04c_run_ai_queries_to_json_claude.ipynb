{
 "cells": [
  {
   "cell_type": "code",
   "execution_count": 0,
   "metadata": {
    "application/vnd.databricks.v1+cell": {
     "cellMetadata": {
      "byteLimit": 2048000,
      "rowLimit": 10000
     },
     "inputWidgets": {},
     "nuid": "1bb33324-c9d7-4a04-8b4a-e018c58120d0",
     "showTitle": false,
     "tableResultSettingsMap": {},
     "title": ""
    }
   },
   "outputs": [],
   "source": [
    "from datetime import datetime\n",
    "\n",
    "import pyspark.sql.functions as F\n",
    "import pyspark.sql.types as T"
   ]
  },
  {
   "cell_type": "code",
   "execution_count": 0,
   "metadata": {
    "application/vnd.databricks.v1+cell": {
     "cellMetadata": {
      "byteLimit": 2048000,
      "rowLimit": 10000
     },
     "inputWidgets": {},
     "nuid": "83e7756d-6435-4114-b3fd-e45c8cc42716",
     "showTitle": false,
     "tableResultSettingsMap": {},
     "title": ""
    }
   },
   "outputs": [],
   "source": [
    "CATALOG = \"marcell\"\n",
    "SCHEMA = \"marine_planning\"\n",
    "SOURCE_TABLE = \"project_pages\""
   ]
  },
  {
   "cell_type": "code",
   "execution_count": 0,
   "metadata": {
    "application/vnd.databricks.v1+cell": {
     "cellMetadata": {
      "byteLimit": 2048000,
      "rowLimit": 10000
     },
     "inputWidgets": {},
     "nuid": "3652f1b9-9495-4310-a261-ce0a83116f37",
     "showTitle": false,
     "tableResultSettingsMap": {},
     "title": ""
    }
   },
   "outputs": [],
   "source": [
    "time_now = datetime.now()\n",
    "current_user = spark.sql(\"SELECT current_user()\").collect()[0][0]\n",
    "RUN_ID = f\"{time_now.strftime('%Y%m%d%H%M%S')}_{current_user}\""
   ]
  },
  {
   "cell_type": "code",
   "execution_count": 0,
   "metadata": {
    "application/vnd.databricks.v1+cell": {
     "cellMetadata": {
      "byteLimit": 2048000,
      "rowLimit": 10000
     },
     "inputWidgets": {},
     "nuid": "1d7de1ca-1e44-4684-9b64-b698631b236f",
     "showTitle": false,
     "tableResultSettingsMap": {},
     "title": ""
    }
   },
   "outputs": [],
   "source": [
    "prompt = \"\"\"\n",
    "Role: Act as a senior environmental data analyst with expertise in parsing technical policy documents.\n",
    "\n",
    "Task: Analyze the provided policy paper page and extract verified quantitative impacts on species/conservation areas using this structure:\n",
    "\n",
    "{\n",
    "  'impacts': [\n",
    "    {\n",
    "      'species': 'common name of the animal species impacted',\n",
    "      'impact': 'the adverse effect identified on the species, e.g. collision mortality',\n",
    "      'impact_type': 'whether the impact is due to this project alone (independent), or in combination with other projects (in-combination)',\n",
    "      'impact_category': 'one of: Collision, Displacement/Disturbance, Mortality, Population/Breeding, Noise, Other',\n",
    "      'area': 'Official designated conservation area name',\n",
    "      'reporting_organisation': 'Full organization name (no abbreviations), e.g. Natural England (NE) or the Secretary of State (SoS)',\n",
    "      'value': 'Exact numerical figure from source, if a single value is mentioned',\n",
    "      'minimum_value': 'The minimum value, if a range is presented',\n",
    "      'maximum_value': 'The maximum value, if a range is presented',\n",
    "      'unit': 'Measurement unit (e.g., individuals, % population)',\n",
    "      'confidence': 'Confidence level (confirmed, suspected, confirmed beyond any scientific doubt)',\n",
    "      'quote': 'Direct quote from the text referencing the impact'\n",
    "    }\n",
    "  ]\n",
    "}\n",
    "\n",
    "Rules:\n",
    "\n",
    "1. Include ONLY impacts with quantitative values explicitly stated in the text\n",
    "\n",
    "2. Verify organization names against official registers\n",
    "\n",
    "3. Use original measurement units - convert percentages only if explicitly stated\n",
    "\n",
    "4. Omit impacts described with speculative language ('may affect', 'potentially')\n",
    "\n",
    "5. Return empty array if no verifiable impacts exist, without returning any other text\n",
    "\n",
    "Format Requirements:\n",
    "\n",
    "- Strictly valid JSON (no trailing commas, exact quotes)\n",
    "\n",
    "- No Markdown formatting\n",
    "\n",
    "- the JSON should be machine readable, so DON'T use the ```json markdown format\n",
    "\n",
    "- Preserve case sensitivity in names\n",
    "\n",
    "- Empty fields permitted - if information for a field is missing, keep the field as an empty string\n",
    "\n",
    "Process:\n",
    "\n",
    "1. Identify all species-conservation area pairs\n",
    "\n",
    "2. Cross-reference with reporting organizations\n",
    "\n",
    "3. Extract exact numerical values + context units\n",
    "\n",
    "4. Validate against document's explicit statements.\n",
    "\n",
    "Here is the page:\n",
    "\n",
    "\"\"\"\n",
    "\n",
    "model = \"databricks-claude-3-7-sonnet\""
   ]
  },
  {
   "cell_type": "code",
   "execution_count": 0,
   "metadata": {
    "application/vnd.databricks.v1+cell": {
     "cellMetadata": {
      "byteLimit": 2048000,
      "rowLimit": 10000
     },
     "inputWidgets": {},
     "nuid": "dcdc2037-9f46-436c-9a81-d6938f60adb6",
     "showTitle": false,
     "tableResultSettingsMap": {},
     "title": ""
    }
   },
   "outputs": [],
   "source": [
    "query = f'''\n",
    "SELECT *,\n",
    "ai_query(\"{model}\", \"{prompt}\" || page_text) as ai_result\n",
    "FROM {CATALOG}.{SCHEMA}.{SOURCE_TABLE}\n",
    "'''\n",
    "\n",
    "df = spark.sql(query)"
   ]
  },
  {
   "cell_type": "code",
   "execution_count": 0,
   "metadata": {
    "application/vnd.databricks.v1+cell": {
     "cellMetadata": {
      "byteLimit": 2048000,
      "rowLimit": 10000
     },
     "inputWidgets": {},
     "nuid": "540540bf-6372-4d2b-a62c-1535b1ef84e5",
     "showTitle": false,
     "tableResultSettingsMap": {},
     "title": ""
    }
   },
   "outputs": [],
   "source": [
    "import pyspark.sql.functions as F"
   ]
  },
  {
   "cell_type": "code",
   "execution_count": 0,
   "metadata": {
    "application/vnd.databricks.v1+cell": {
     "cellMetadata": {
      "byteLimit": 2048000,
      "rowLimit": 10000
     },
     "inputWidgets": {},
     "nuid": "e7814651-ceee-4084-a4cb-4df362a31088",
     "showTitle": false,
     "tableResultSettingsMap": {},
     "title": ""
    }
   },
   "outputs": [],
   "source": [
    "from pyspark.sql.functions import from_json, col\n",
    "from pyspark.sql.types import StructType, StructField, StringType, ArrayType\n",
    "\n",
    "schema = StructType([\n",
    "    StructField(\"impacts\", ArrayType(StructType([\n",
    "        StructField(\"species\", StringType(), True),\n",
    "        StructField(\"impact\", StringType(), True),\n",
    "        StructField(\"impact_type\", StringType(), True),\n",
    "        StructField(\"impact_category\", StringType(), True),\n",
    "        StructField(\"area\", StringType(), True),\n",
    "        StructField(\"reporting_organisation\", StringType(), True),\n",
    "        StructField(\"value\", StringType(), True),\n",
    "        StructField(\"minimum_value\", StringType(), True),\n",
    "        StructField(\"maximum_value\", StringType(), True),\n",
    "        StructField(\"unit\", StringType(), True),\n",
    "        StructField(\"confidence\", StringType(), True),\n",
    "        StructField(\"quote\", StringType(), True)\n",
    "    ])), True)\n",
    "])\n",
    "\n",
    "parsed_df = df.withColumn(\"ai_result_parsed\", from_json(col(\"ai_result\"), schema))\n",
    "parsed_df = parsed_df.withColumn(\"impacts\", col(\"ai_result_parsed.impacts\"))\n",
    "parsed_df.write.mode(\"overwrite\").option(\"overwriteSchema\", \"true\").saveAsTable(f\"{CATALOG}.{SCHEMA}.project_impact\")"
   ]
  },
  {
   "cell_type": "code",
   "execution_count": 0,
   "metadata": {
    "application/vnd.databricks.v1+cell": {
     "cellMetadata": {
      "byteLimit": 2048000,
      "rowLimit": 10000
     },
     "inputWidgets": {},
     "nuid": "42c6d645-74ac-4c8b-b202-bdda6a0de0ac",
     "showTitle": false,
     "tableResultSettingsMap": {},
     "title": ""
    }
   },
   "outputs": [],
   "source": [
    "parsed_df = spark.table(f\"{CATALOG}.{SCHEMA}.project_impact\").filter(col(\"impacts\").isNotNull() & (col(\"impacts\").getItem(0).isNotNull()))\n",
    "from pyspark.sql.functions import explode\n",
    "\n",
    "exploded_df = parsed_df.select(\"*\", explode(col(\"impacts\")).alias(\"impact\"))\n"
   ]
  },
  {
   "cell_type": "code",
   "execution_count": 0,
   "metadata": {
    "application/vnd.databricks.v1+cell": {
     "cellMetadata": {
      "byteLimit": 2048000,
      "rowLimit": 10000
     },
     "inputWidgets": {},
     "nuid": "2f41af51-c6c8-4fc9-93f2-88c81abfc454",
     "showTitle": false,
     "tableResultSettingsMap": {},
     "title": ""
    }
   },
   "outputs": [],
   "source": [
    "exploded_df.write.mode(\"overwrite\").option(\"overwriteSchema\", \"true\").saveAsTable(f\"{CATALOG}.{SCHEMA}.project_impact_expl\")"
   ]
  },
  {
   "cell_type": "code",
   "execution_count": 0,
   "metadata": {
    "application/vnd.databricks.v1+cell": {
     "cellMetadata": {
      "byteLimit": 2048000,
      "rowLimit": 10000
     },
     "inputWidgets": {},
     "nuid": "ed20ecc8-8de3-449d-a577-a1acb3f58acb",
     "showTitle": false,
     "tableResultSettingsMap": {},
     "title": ""
    }
   },
   "outputs": [],
   "source": [
    "df = (spark.table(\"marcell.marine_planning.project_impact_expl\")\n",
    "      .withColumn(\"species\", F.col(\"impact.species\"))\n",
    "      .withColumn(\"cause\", F.col(\"impact.impact\"))\n",
    "      .withColumn(\"impact_type\", F.col(\"impact.impact_type\"))\n",
    "      .withColumn(\"impact_category\", F.col(\"impact.impact_category\"))\n",
    "      .withColumn(\"area\", F.col(\"impact.area\"))\n",
    "      .withColumn(\"reporting_organisation\", F.col(\"impact.reporting_organisation\"))\n",
    "      .withColumn(\"value\", F.col(\"impact.value\"))\n",
    "      .withColumn(\"minimum_value\", F.col(\"impact.minimum_value\"))\n",
    "      .withColumn(\"maximum_value\", F.col(\"impact.maximum_value\"))\n",
    "      .withColumn(\"unit\", F.col(\"impact.unit\"))\n",
    "      .withColumn(\"confidence\", F.col(\"impact.confidence\"))\n",
    "      .withColumn(\"quote\", F.col(\"impact.quote\"))\n",
    "      .drop(\"impact\", \"impacts\", \"ai_result_parsed\", \"ai_result\")\n",
    ")\n",
    "df.display()"
   ]
  },
  {
   "cell_type": "code",
   "execution_count": 0,
   "metadata": {
    "application/vnd.databricks.v1+cell": {
     "cellMetadata": {
      "byteLimit": 2048000,
      "rowLimit": 10000
     },
     "inputWidgets": {},
     "nuid": "39fc2497-b42b-4d03-b7a2-bfb2591dd03f",
     "showTitle": false,
     "tableResultSettingsMap": {},
     "title": ""
    }
   },
   "outputs": [],
   "source": [
    "df = (df\n",
    "      .filter(~(F.col(\"value\").isNull() & F.col(\"minimum_value\").isNull() & F.col(\"maximum_value\").isNull()))\n",
    "      .filter(~((F.col(\"value\")==F.lit(\"\")) & (F.col(\"minimum_value\")==F.lit(\"\")) & (F.col(\"maximum_value\")==F.lit(\"\"))))\n",
    "      .filter(F.col(\"cause\").isNotNull())\n",
    "      .withColumn(\"quote_validation\", F.expr(\"INSTR(page_text, quote) > 0\"))\n",
    "      )"
   ]
  },
  {
   "cell_type": "code",
   "execution_count": 0,
   "metadata": {
    "application/vnd.databricks.v1+cell": {
     "cellMetadata": {
      "byteLimit": 2048000,
      "rowLimit": 10000
     },
     "inputWidgets": {},
     "nuid": "80d8ee1a-56f7-4a66-b133-adb3acf7f17f",
     "showTitle": false,
     "tableResultSettingsMap": {},
     "title": ""
    }
   },
   "outputs": [],
   "source": [
    "df = df\\\n",
    "  .filter(\"reporting_organisation ILIKE '%secretary of state%' OR reporting_organisation LIKE '%SoS%' OR reporting_organisation ILIKE '%applicant%'\")\\\n",
    "  .filter(\"impact_type <> 'in-combination'\")\\\n",
    "  .filter(\"unit NOT ILIKE ('%km%')\")\\\n",
    "  .filter(\"unit <> 'ha'\")\\\n",
    "  .filter(\"confidence = 'confirmed'\")"
   ]
  },
  {
   "cell_type": "code",
   "execution_count": 0,
   "metadata": {
    "application/vnd.databricks.v1+cell": {
     "cellMetadata": {
      "byteLimit": 2048000,
      "rowLimit": 10000
     },
     "inputWidgets": {},
     "nuid": "b6e6b729-afa1-4606-b4e6-46c39e943b2f",
     "showTitle": false,
     "tableResultSettingsMap": {},
     "title": ""
    }
   },
   "outputs": [],
   "source": [
    "@F.udf(T.StringType())\n",
    "def format_value(value, min_value, max_value, unit):\n",
    "  if min_value is None or max_value is None or min_value==\"\" or max_value==\"\":\n",
    "    return f\"{value} {unit}\"\n",
    "  \n",
    "  if value is None or value==\"\":\n",
    "    return f\"{min_value}-{max_value} {unit}\"\n",
    "  \n",
    "  return f\"{value} ({min_value}-{max_value}) {unit}\""
   ]
  },
  {
   "cell_type": "code",
   "execution_count": 0,
   "metadata": {
    "application/vnd.databricks.v1+cell": {
     "cellMetadata": {
      "byteLimit": 2048000,
      "rowLimit": 10000
     },
     "inputWidgets": {},
     "nuid": "ac69fd5a-84df-4bcf-9e04-c5c41ec738f3",
     "showTitle": false,
     "tableResultSettingsMap": {},
     "title": ""
    }
   },
   "outputs": [],
   "source": [
    "df = df.withColumn(\"formatted_value\", format_value(F.col(\"value\"), F.col(\"minimum_value\"), F.col(\"maximum_value\"), F.col(\"unit\")))"
   ]
  },
  {
   "cell_type": "code",
   "execution_count": 0,
   "metadata": {
    "application/vnd.databricks.v1+cell": {
     "cellMetadata": {
      "byteLimit": 2048000,
      "rowLimit": 10000
     },
     "inputWidgets": {},
     "nuid": "b4d2081e-da3d-4709-bec5-e0e1ce3b3840",
     "showTitle": false,
     "tableResultSettingsMap": {},
     "title": ""
    }
   },
   "outputs": [],
   "source": [
    "df.display()"
   ]
  },
  {
   "cell_type": "code",
   "execution_count": 0,
   "metadata": {
    "application/vnd.databricks.v1+cell": {
     "cellMetadata": {
      "byteLimit": 2048000,
      "rowLimit": 10000
     },
     "inputWidgets": {},
     "nuid": "b8c6f8e0-3920-4bb4-a763-a84509e0cac9",
     "showTitle": false,
     "tableResultSettingsMap": {},
     "title": ""
    }
   },
   "outputs": [],
   "source": [
    "@F.udf(T.StringType())\n",
    "def create_json(row):\n",
    "  return F\"\"\"\n",
    "species: {row.species}\n",
    "impact: {row.cause}\n",
    "value: {row.formatted_value}\n",
    "impact_category: {row.impact_category}\n",
    "area: {row.area}\n",
    "reporting_organisation: {row.reporting_organisation}\n",
    "quote: {row.quote}\n",
    "page_number: {row.page_number}\n",
    "\"\"\""
   ]
  },
  {
   "cell_type": "code",
   "execution_count": 0,
   "metadata": {
    "application/vnd.databricks.v1+cell": {
     "cellMetadata": {
      "byteLimit": 2048000,
      "rowLimit": 10000
     },
     "inputWidgets": {},
     "nuid": "60899a3a-e2d3-42df-92ce-a73acd8371a5",
     "showTitle": false,
     "tableResultSettingsMap": {},
     "title": ""
    }
   },
   "outputs": [],
   "source": [
    "df = df\\\n",
    "  .withColumn(\"fact_json\", create_json(F.struct(\"species\", \"cause\", \"formatted_value\", \"impact_category\", \"area\", \"reporting_organisation\", \"quote\", \"page_number\")))\n",
    "df.display()"
   ]
  },
  {
   "cell_type": "code",
   "execution_count": 0,
   "metadata": {
    "application/vnd.databricks.v1+cell": {
     "cellMetadata": {
      "byteLimit": 2048000,
      "rowLimit": 10000
     },
     "inputWidgets": {},
     "nuid": "2917b5c7-c221-4b41-8b16-9a05d37a4184",
     "showTitle": false,
     "tableResultSettingsMap": {},
     "title": ""
    }
   },
   "outputs": [],
   "source": [
    "df_facts = df.groupBy(\"project\").agg(F.collect_list(\"fact_json\").alias(\"facts\")).select(\"project\", F.concat_ws(\"\\n\\n----------------\\n\\n\", \"facts\").alias(\"concatenated_facts\"))"
   ]
  },
  {
   "cell_type": "code",
   "execution_count": 0,
   "metadata": {
    "application/vnd.databricks.v1+cell": {
     "cellMetadata": {
      "byteLimit": 2048000,
      "rowLimit": 10000
     },
     "inputWidgets": {},
     "nuid": "69073bfb-a333-4e79-afc8-0210fc518e7a",
     "showTitle": false,
     "tableResultSettingsMap": {},
     "title": ""
    }
   },
   "outputs": [],
   "source": [
    "df_facts.display()"
   ]
  },
  {
   "cell_type": "code",
   "execution_count": 0,
   "metadata": {
    "application/vnd.databricks.v1+cell": {
     "cellMetadata": {
      "byteLimit": 2048000,
      "rowLimit": 10000
     },
     "inputWidgets": {},
     "nuid": "b528357b-6f77-48f5-9a70-19e73679e132",
     "showTitle": false,
     "tableResultSettingsMap": {},
     "title": ""
    }
   },
   "outputs": [],
   "source": [
    "prompt = \"\"\"\n",
    "Analyze the provided JSON dataset of marine impact facts from infrastructure planning documents. Generate a structured markdown report that:\n",
    "\n",
    "1. **Groups impacts by conservation area** (primary sections)\n",
    "2. **Prioritizes by highest quantitative value** within each area\n",
    "3. **Highlights 3 key impact categories** (noise, habitat loss, pollution, etc.)\n",
    "4. **Maintains traceability** using [p. X] citations from source documents\n",
    "\n",
    "Include for each conservation area:\n",
    "- ## Area Name \n",
    "  - ### Most Severe Impact Category\n",
    "    - **Species**: Brief impact description (Value: _quantitative data_) [p. X]\n",
    "    - Direct quote from report: '...' [p. X]\n",
    "    - Reporting organization: _Name_\n",
    "  - Comparative impact table showing:\n",
    "    | Species | Impact Type | Quantitative Value | Page Ref |\n",
    "    |---------|-------------|--------------------|----------|\n",
    "    | _Data_  | _Data_      | _Data_             | _[p.X]_  |\n",
    "\n",
    "Formatting rules:\n",
    "- Bold category headers\n",
    "- Italicize quantitative values\n",
    "- Use > for direct quotes\n",
    "- Sort tables by descending value\n",
    "- List max 5 species per category\n",
    "- Highlight duplicate impacts across areas with ⚠️\n",
    "\n",
    "Start with '## Major Marine Impacts Summary' header. Conclude with '## Key Takeaways' listing top 3 cross-area concerns with total affected species counts.\n",
    "\n",
    "Example output:\n",
    "## Major Marine Impacts Summary\n",
    "\n",
    "## Bristol Channel\n",
    "### Noise Pollution (Highest Impact)\n",
    "- **Harbor Porpoise**: 58% reduction in feeding activity (Value: _1200 dB increase_) [p. 42]\n",
    "> 'Construction pile-driving will create sustained underwater noise exceeding 160dB' [p. 42]\n",
    "- Reporting: Marine Conservation Society\n",
    "\n",
    "| Species | Impact Type | Quantitative Value | Page Ref |\n",
    "|---------|-------------|--------------------|----------|\n",
    "| Porpoise | Hearing loss | 1200 dB | [p.42] |\n",
    "| Cod | Larval mortality | 45% | [p.38] |\n",
    "\n",
    "## Key Takeaways\n",
    "1. Noise pollution affects 8 species across 3 regions \n",
    "2. Habitat fragmentation risks 12 endangered species\n",
    "3. 75% of impacts occur in EU-protected zones\n",
    "\n",
    "\n",
    "Here are the facts:\n",
    "\n",
    "\n",
    "\"\"\""
   ]
  },
  {
   "cell_type": "code",
   "execution_count": 0,
   "metadata": {
    "application/vnd.databricks.v1+cell": {
     "cellMetadata": {
      "byteLimit": 2048000,
      "rowLimit": 10000
     },
     "inputWidgets": {},
     "nuid": "7e7ba10d-ee3c-45c6-b568-94692543e0cc",
     "showTitle": false,
     "tableResultSettingsMap": {},
     "title": ""
    }
   },
   "outputs": [],
   "source": [
    "df_facts = df_facts.withColumn(\"ai_summary\", F.expr(f'ai_query(\"{model}\", \"{prompt}\" || concatenated_facts)'))"
   ]
  },
  {
   "cell_type": "code",
   "execution_count": 0,
   "metadata": {
    "application/vnd.databricks.v1+cell": {
     "cellMetadata": {
      "byteLimit": 2048000,
      "rowLimit": 10000
     },
     "inputWidgets": {},
     "nuid": "36774992-678d-4495-b044-a21160aae4a7",
     "showTitle": false,
     "tableResultSettingsMap": {},
     "title": ""
    }
   },
   "outputs": [],
   "source": [
    "# df_facts.display()"
   ]
  },
  {
   "cell_type": "code",
   "execution_count": 0,
   "metadata": {
    "application/vnd.databricks.v1+cell": {
     "cellMetadata": {
      "byteLimit": 2048000,
      "rowLimit": 10000
     },
     "inputWidgets": {},
     "nuid": "6a04500c-a939-4a95-baf5-50510a4720b1",
     "showTitle": false,
     "tableResultSettingsMap": {},
     "title": ""
    }
   },
   "outputs": [],
   "source": [
    "pdf_facts = df_facts.toPandas()\n",
    "\n",
    "def save_to_md(project, text):\n",
    "  with open(f\"{project}_summary_claude.md\", \"w\") as f:\n",
    "    f.write(text)\n",
    "\n",
    "pdf_facts.apply(lambda x: save_to_md(x[\"project\"], x[\"ai_summary\"]), axis=1)"
   ]
  }
 ],
 "metadata": {
  "application/vnd.databricks.v1+notebook": {
   "computePreferences": null,
   "dashboards": [],
   "environmentMetadata": null,
   "inputWidgetPreferences": null,
   "language": "python",
   "notebookMetadata": {
    "pythonIndentUnit": 2
   },
   "notebookName": "04c_run_ai_queries_to_json_claude",
   "widgets": {}
  },
  "kernelspec": {
   "display_name": ".venv",
   "language": "python",
   "name": "python3"
  },
  "language_info": {
   "name": "python"
  }
 },
 "nbformat": 4,
 "nbformat_minor": 0
}

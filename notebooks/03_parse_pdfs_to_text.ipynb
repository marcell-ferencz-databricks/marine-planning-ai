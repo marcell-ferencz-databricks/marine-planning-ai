{
 "cells": [
  {
   "cell_type": "code",
   "execution_count": 0,
   "metadata": {
    "application/vnd.databricks.v1+cell": {
     "cellMetadata": {
      "byteLimit": 2048000,
      "rowLimit": 10000
     },
     "inputWidgets": {},
     "nuid": "9ee7f067-eb65-4e92-8f68-4e06458fe291",
     "showTitle": false,
     "tableResultSettingsMap": {},
     "title": ""
    }
   },
   "outputs": [],
   "source": [
    "%pip install PyMuPDF\n",
    "%restart_python"
   ]
  },
  {
   "cell_type": "code",
   "execution_count": 0,
   "metadata": {
    "application/vnd.databricks.v1+cell": {
     "cellMetadata": {
      "byteLimit": 2048000,
      "rowLimit": 10000
     },
     "inputWidgets": {},
     "nuid": "de9bffb8-7462-4b56-98f8-b27e876ddedc",
     "showTitle": false,
     "tableResultSettingsMap": {},
     "title": ""
    }
   },
   "outputs": [],
   "source": [
    "import pyspark.sql.functions as F\n",
    "import pyspark.sql.types as T"
   ]
  },
  {
   "cell_type": "code",
   "execution_count": 0,
   "metadata": {
    "application/vnd.databricks.v1+cell": {
     "cellMetadata": {
      "byteLimit": 2048000,
      "rowLimit": 10000
     },
     "inputWidgets": {},
     "nuid": "2d80f612-fb76-4bdb-8054-f41f388481de",
     "showTitle": false,
     "tableResultSettingsMap": {},
     "title": ""
    }
   },
   "outputs": [],
   "source": [
    "CATALOG = \"marcell\"\n",
    "SCHEMA = \"marine_ai_poc\"\n",
    "PROJECT_ID = \"EN010109\""
   ]
  },
  {
   "cell_type": "code",
   "execution_count": 0,
   "metadata": {
    "application/vnd.databricks.v1+cell": {
     "cellMetadata": {
      "byteLimit": 2048000,
      "rowLimit": 10000
     },
     "inputWidgets": {},
     "nuid": "b7f2cf97-8754-4696-a4e0-e01e187a3aca",
     "showTitle": false,
     "tableResultSettingsMap": {},
     "title": ""
    }
   },
   "outputs": [],
   "source": [
    "df_reference = spark.table(f\"{CATALOG}.{SCHEMA}.document_reference_with_paths\").where(F.col(\"project_id\") == PROJECT_ID)\\\n",
    "    .drop(\"title\")\\\n",
    "    .withColumn(\"title\", F.regexp_replace(F.col(\"link_text\"), r\"\\s*\\([^)]*\\)\", \"\"))\\\n",
    "    .withColumn(\"title\", F.replace(F.col(\"title\"), F.lit(\"\\n\"), F.lit(\"\")))"
   ]
  },
  {
   "cell_type": "code",
   "execution_count": 0,
   "metadata": {
    "application/vnd.databricks.v1+cell": {
     "cellMetadata": {
      "byteLimit": 2048000,
      "rowLimit": 10000
     },
     "inputWidgets": {},
     "nuid": "f2bc9580-5267-4e3a-ba40-d0a97ee30acf",
     "showTitle": false,
     "tableResultSettingsMap": {},
     "title": ""
    }
   },
   "outputs": [],
   "source": [
    "@F.udf(returnType=T.ArrayType(T.StringType()))\n",
    "def convert_doc_to_text(pdf_path):\n",
    "  import pymupdf\n",
    "  document_id = pdf_path.split('/')[-1].replace('.pdf', '')\n",
    "  try:\n",
    "    doc = pymupdf.open(pdf_path)\n",
    "    pages = [page.get_text() for page in doc]\n",
    "    \n",
    "    return pages\n",
    "  \n",
    "  except Exception as e:\n",
    "    return [e]\n",
    "\n",
    "  "
   ]
  },
  {
   "cell_type": "code",
   "execution_count": 0,
   "metadata": {
    "application/vnd.databricks.v1+cell": {
     "cellMetadata": {
      "byteLimit": 2048000,
      "rowLimit": 10000
     },
     "inputWidgets": {},
     "nuid": "66815d5f-cdc6-4e7e-b469-75b13c9db66c",
     "showTitle": false,
     "tableResultSettingsMap": {},
     "title": ""
    }
   },
   "outputs": [],
   "source": [
    "df_reference = (df_reference\n",
    "                .repartition(1000)\n",
    "                .withColumn(\"pages\", convert_doc_to_text(F.col(\"pdf_path\")))\n",
    "                )"
   ]
  },
  {
   "cell_type": "code",
   "execution_count": 0,
   "metadata": {
    "application/vnd.databricks.v1+cell": {
     "cellMetadata": {
      "byteLimit": 2048000,
      "rowLimit": 10000
     },
     "inputWidgets": {},
     "nuid": "8a0af725-a21f-4581-a870-cf3cc477c125",
     "showTitle": false,
     "tableResultSettingsMap": {},
     "title": ""
    }
   },
   "outputs": [],
   "source": [
    "(df_reference\n",
    " .write\n",
    " .mode(\"append\")\n",
    " .saveAsTable(f\"{CATALOG}.{SCHEMA}.documents_parsed\")\n",
    " )"
   ]
  },
  {
   "cell_type": "code",
   "execution_count": 0,
   "metadata": {
    "application/vnd.databricks.v1+cell": {
     "cellMetadata": {
      "byteLimit": 2048000,
      "rowLimit": 10000
     },
     "inputWidgets": {},
     "nuid": "93bddf8c-49b5-4f7a-9ff0-c6e8efb1a1ba",
     "showTitle": false,
     "tableResultSettingsMap": {},
     "title": ""
    }
   },
   "outputs": [],
   "source": [
    "df_reference_pages = (\n",
    "  spark.table(f\"{CATALOG}.{SCHEMA}.documents_parsed\")\n",
    "  .select(\"*\", F.posexplode(\"pages\").alias(\"page_number\", \"page_text\")).drop(\"pages\")\n",
    "  .withColumn(\"page_id\", F.expr(\"concat(filename, '_', page_number)\"))\n",
    ")"
   ]
  },
  {
   "cell_type": "code",
   "execution_count": 0,
   "metadata": {
    "application/vnd.databricks.v1+cell": {
     "cellMetadata": {
      "byteLimit": 2048000,
      "rowLimit": 10000
     },
     "inputWidgets": {},
     "nuid": "84388fc8-f8a1-4ee1-b60a-bb09a1e91780",
     "showTitle": false,
     "tableResultSettingsMap": {},
     "title": ""
    }
   },
   "outputs": [],
   "source": [
    "(df_reference_pages\n",
    " .write\n",
    " .mode(\"append\")\n",
    " .option(\"overwriteSchema\", \"true\")\n",
    " .saveAsTable(f\"{CATALOG}.{SCHEMA}.document_pages_parsed\")\n",
    " )"
   ]
  }
 ],
 "metadata": {
  "application/vnd.databricks.v1+notebook": {
   "computePreferences": null,
   "dashboards": [],
   "environmentMetadata": null,
   "inputWidgetPreferences": null,
   "language": "python",
   "notebookMetadata": {
    "pythonIndentUnit": 2
   },
   "notebookName": "03_parse_pdfs_to_text",
   "widgets": {}
  },
  "kernelspec": {
   "display_name": ".venv",
   "language": "python",
   "name": "python3"
  },
  "language_info": {
   "name": "python"
  }
 },
 "nbformat": 4,
 "nbformat_minor": 0
}
